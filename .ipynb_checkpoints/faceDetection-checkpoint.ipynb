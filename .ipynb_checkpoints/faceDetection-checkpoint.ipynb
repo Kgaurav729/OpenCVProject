{
 "cells": [
  {
   "cell_type": "code",
   "execution_count": 27,
   "id": "a47b67d2-92be-481a-ae15-9455fb236c2d",
   "metadata": {},
   "outputs": [],
   "source": [
    "import cv2\n",
    "import numpy as np\n",
    "import face_recognition\n",
    "import time\n",
    "import PIL"
   ]
  },
  {
   "cell_type": "code",
   "execution_count": 18,
   "id": "3b9cf26e-34b2-448e-a5ed-a0e7494f0497",
   "metadata": {},
   "outputs": [],
   "source": []
  },
  {
   "cell_type": "code",
   "execution_count": 32,
   "id": "71c69690-1b3e-42cf-aa71-0e1e401a311d",
   "metadata": {},
   "outputs": [
    {
     "name": "stdout",
     "output_type": "stream",
     "text": [
      "[True] [0.]\n"
     ]
    }
   ],
   "source": [
    "path='A:\\JupyterNotebook/attendanceManager/mark1.jpg'\n",
    "img=face_recognition.load_image_file(path)\n",
    "img=cv2.cvtColor(img,cv2.COLOR_BGR2RGB)\n",
    "img=cv2.resize(img,(0,0),None,.25,.25)\n",
    "testImgPath=\"A:\\JupyterNotebook/attendanceManager/mark2.jpg\"\n",
    "imgTest=face_recognition.load_image_file(testImgPath)\n",
    "imgTest=cv2.cvtColor(imgTest,cv2.COLOR_BGR2RGB)\n",
    "imgTest=cv2.resize(imgTest,(0,0),None,.25,.25)\n",
    "faceLoc=face_recognition.face_locations(img)[0]\n",
    "encodeImg=face_recognition.face_encodings(img)[0]\n",
    "cv2.rectangle(img,(faceLoc[3],faceLoc[0]),(faceLoc[1],faceLoc[2]) ,(255,255,0),2)\n",
    "\n",
    "faceLocTest=face_recognition.face_locations(imgTest)[0]\n",
    "encodeImgTest=face_recognition.face_encodings(imgTest)[0]\n",
    "cv2.rectangle(imgTest,(faceLocTest[3],faceLocTest[0]),\n",
    "              (faceLocTest[1],faceLocTest[2]) ,(255,255,0),2)\n",
    "\n",
    "results=face_recognition.compare_faces([encodeImg], encodeImgTest)\n",
    "faceDis=face_recognition.face_distance([encodeImg],encodeImg)\n",
    "print(results,faceDis)\n",
    "cv2.putText(imgTest,f'{results}{round(faceDis[0],2)}' ,\n",
    "           (50,50),cv2.FONT_HERSHEY_COMPLEX,1,(0,0,255),2)\n",
    "\n",
    "\n",
    "cv2.imshow('Train Image',img)\n",
    "cv2.imshow('Test Image',imgTest)\n",
    "cv2.waitKey(0)\n",
    "cv2.destroyAllWindows()"
   ]
  },
  {
   "cell_type": "code",
   "execution_count": 42,
   "id": "126b1cd1-044e-4ff8-b956-325c0d8a32b8",
   "metadata": {},
   "outputs": [],
   "source": [
    "cap=cv2.VideoCapture(0)\n",
    "\n",
    "# fps\n",
    "pTime=0\n",
    "cTime=0\n",
    "while True:\n",
    "    success,img=cap.read()\n",
    "    imgRGB=cv2.cvtColor(img,cv2.COLOR_BGR2RGB)\n",
    "    #     show fps\n",
    "    cTime=time.time()\n",
    "    fps=1/(cTime-pTime)\n",
    "    pTime=cTime\n",
    "    cv2.putText(img,str(int(fps)),(10,70),cv2.FONT_HERSHEY_COMPLEX,\n",
    "                                  3,(255,0,255),thickness=3)\n",
    "    \n",
    "    cv2.imshow(\"Image\",img)\n",
    "    if cv2.waitKey(10) &  0xFF==ord('d'):\n",
    "        break\n",
    "        \n",
    "cap.release()\n",
    "cv2.destroyAllWindows()"
   ]
  },
  {
   "cell_type": "code",
   "execution_count": 41,
   "id": "b86501a3-48d2-4484-a955-af922730597f",
   "metadata": {},
   "outputs": [],
   "source": [
    "\n",
    "def rescaleFrame(frame,scale=0.75):\n",
    "    width=int(frame.shape[1]*scale)\n",
    "    height=int(frame.shape[0]*scale)\n",
    "    \n",
    "    dimensions=(width,height)\n",
    "    \n",
    "    return cv2.resize(frame,dimensions,interpolation=cv2.INTER_AREA)\n",
    "\n",
    "\n",
    "capture=cv2.VideoCapture(0)\n",
    "pTime = 0\n",
    "cTime = 0\n",
    "while True:\n",
    "    isTrue,frame=capture.read()\n",
    "    \n",
    "    img=rescaleFrame(frame)\n",
    "    \n",
    "    cv2.imshow('Video',frame)\n",
    "    cv2.imshow('Video Resized',img)\n",
    "           \n",
    "    cTime=time.time()\n",
    "    fps=1/(cTime-pTime)\n",
    "    pTime=cTime\n",
    "    \n",
    "    cv2.putText(img,str(int(fps)),(70,50),cv2.FONT_HERSHEY_COMPLEX,\n",
    "              3,(255,0,0),3)\n",
    "    \n",
    "    if cv2.waitKey(10) &  0xFF==ord('d'):\n",
    "        break\n",
    "        \n",
    "capture.release()\n",
    "cv2.destroyAllWindows()"
   ]
  }
 ],
 "metadata": {
  "kernelspec": {
   "display_name": "Python 3",
   "language": "python",
   "name": "python3"
  },
  "language_info": {
   "codemirror_mode": {
    "name": "ipython",
    "version": 3
   },
   "file_extension": ".py",
   "mimetype": "text/x-python",
   "name": "python",
   "nbconvert_exporter": "python",
   "pygments_lexer": "ipython3",
   "version": "3.8.8"
  }
 },
 "nbformat": 4,
 "nbformat_minor": 5
}
